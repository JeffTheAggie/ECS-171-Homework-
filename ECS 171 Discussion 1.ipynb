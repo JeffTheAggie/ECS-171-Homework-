{
 "cells": [
  {
   "cell_type": "markdown",
   "metadata": {},
   "source": [
    "# ECS 171 Disccusion 1\n",
    "## by, Jeffrey Ugochukwu "
   ]
  },
  {
   "cell_type": "markdown",
   "metadata": {},
   "source": [
    "## Question 1\n",
    "\n",
    "Load and Process the Dataset in Pandas and conduct basic regression analysis"
   ]
  },
  {
   "cell_type": "code",
   "execution_count": 17,
   "metadata": {},
   "outputs": [
    {
     "data": {
      "text/html": [
       "<div>\n",
       "<style scoped>\n",
       "    .dataframe tbody tr th:only-of-type {\n",
       "        vertical-align: middle;\n",
       "    }\n",
       "\n",
       "    .dataframe tbody tr th {\n",
       "        vertical-align: top;\n",
       "    }\n",
       "\n",
       "    .dataframe thead th {\n",
       "        text-align: right;\n",
       "    }\n",
       "</style>\n",
       "<table border=\"1\" class=\"dataframe\">\n",
       "  <thead>\n",
       "    <tr style=\"text-align: right;\">\n",
       "      <th></th>\n",
       "      <th>x</th>\n",
       "      <th>y</th>\n",
       "    </tr>\n",
       "  </thead>\n",
       "  <tbody>\n",
       "    <tr>\n",
       "      <th>0</th>\n",
       "      <td>1.2</td>\n",
       "      <td>2.3</td>\n",
       "    </tr>\n",
       "    <tr>\n",
       "      <th>1</th>\n",
       "      <td>2.9</td>\n",
       "      <td>3.5</td>\n",
       "    </tr>\n",
       "    <tr>\n",
       "      <th>2</th>\n",
       "      <td>7.1</td>\n",
       "      <td>6.4</td>\n",
       "    </tr>\n",
       "    <tr>\n",
       "      <th>3</th>\n",
       "      <td>-1.1</td>\n",
       "      <td>-0.9</td>\n",
       "    </tr>\n",
       "    <tr>\n",
       "      <th>4</th>\n",
       "      <td>8.7</td>\n",
       "      <td>9.2</td>\n",
       "    </tr>\n",
       "  </tbody>\n",
       "</table>\n",
       "</div>"
      ],
      "text/plain": [
       "     x    y\n",
       "0  1.2  2.3\n",
       "1  2.9  3.5\n",
       "2  7.1  6.4\n",
       "3 -1.1 -0.9\n",
       "4  8.7  9.2"
      ]
     },
     "execution_count": 17,
     "metadata": {},
     "output_type": "execute_result"
    }
   ],
   "source": [
    "import pandas as pd\n",
    "import numpy as np\n",
    "import matplotlib.pyplot as plt \n",
    "from sklearn.linear_model import LinearRegression\n",
    "import seaborn as sns\n",
    "import seaborn as sb\n",
    "sns.set()\n",
    "#Importing Datset as Pandas Dataframe\n",
    "df = pd.read_csv(\"data.csv\", names = [\"x\", \"y\"])\n",
    "df.head()"
   ]
  },
  {
   "cell_type": "code",
   "execution_count": 13,
   "metadata": {},
   "outputs": [
    {
     "name": "stderr",
     "output_type": "stream",
     "text": [
      "*c* argument looks like a single numeric RGB or RGBA sequence, which should be avoided as value-mapping will have precedence in case its length matches with *x* & *y*.  Please use the *color* keyword-argument or provide a 2-D array with a single row if you intend to specify the same RGB or RGBA value for all points.\n"
     ]
    },
    {
     "data": {
      "image/png": "[encoded data removed]",
      "text/plain": [
       "<Figure size 432x288 with 1 Axes>"
      ]
     },
     "metadata": {},
     "output_type": "display_data"
    }
   ],
   "source": [
    "#Plot Dataset\n",
    "ax1 = df.plot.scatter(x = \"x\", y = \"y\")"
   ]
  },
  {
   "cell_type": "code",
   "execution_count": 18,
   "metadata": {},
   "outputs": [
    {
     "data": {
      "text/plain": [
       "LinearRegression()"
      ]
     },
     "execution_count": 18,
     "metadata": {},
     "output_type": "execute_result"
    }
   ],
   "source": [
    "#Create Linear Regression Model\n",
    "x = df.iloc[:,0].to_numpy().reshape(-1,1)\n",
    "y = df.iloc[:,1].to_numpy()\n",
    "reg = LinearRegression().fit(x,y)\n",
    "reg"
   ]
  },
  {
   "cell_type": "code",
   "execution_count": 19,
   "metadata": {},
   "outputs": [
    {
     "data": {
      "text/plain": [
       "0.9785100047714211"
      ]
     },
     "execution_count": 19,
     "metadata": {},
     "output_type": "execute_result"
    }
   ],
   "source": [
    "#Calculate R^2\n",
    "reg.score(x,y)"
   ]
  },
  {
   "cell_type": "code",
   "execution_count": 23,
   "metadata": {},
   "outputs": [
    {
     "data": {
      "text/plain": [
       "[<matplotlib.lines.Line2D at 0x268d80e9fa0>]"
      ]
     },
     "execution_count": 23,
     "metadata": {},
     "output_type": "execute_result"
    },
    {
     "data": {
      "image/png": "[encoded data removed]",
      "text/plain": [
       "<Figure size 360x360 with 1 Axes>"
      ]
     },
     "metadata": {},
     "output_type": "display_data"
    }
   ],
   "source": [
    "#Fit regression line\n",
    "sb.relplot(x = \"x\", y = \"y\", data = df)\n",
    "xlimits = [np.amin(x), np.amax(x)]\n",
    "plt.plot(xlimits, reg.intercept_ + reg.coef_ * xlimits, linewidth = 2)"
   ]
  },
  {
   "cell_type": "markdown",
   "metadata": {},
   "source": [
    "## Question 2\n",
    "\n",
    "Prove that the Oridinary Least Squares Regression Equation minimisses the Residual Sum of Squares for the Linear Regression Equation"
   ]
  },
  {
   "cell_type": "markdown",
   "metadata": {},
   "source": [
    "### Answer:\n",
    "\n",
    "The matrix equation for the linear regression formula can be simplified as this:\n",
    "\n",
    "$$ y^{T}y - 2w^{T}X^{y} + w^{T}X^{T}Xw $$\n",
    "\n",
    "Since we have proven that this is bilinear and symmetric, we can take the derivative and use product role.\n",
    "\n",
    "$$ -2X^{T}y + 2X^{T}Xw = 0 $$"
   ]
  },
  {
   "cell_type": "markdown",
   "metadata": {},
   "source": [
    "$$ X^{T}y = X^{T}Xw $$"
   ]
  },
  {
   "cell_type": "markdown",
   "metadata": {},
   "source": [
    "$$ w = (X^{T}X)^{-1}X^{T}y $$"
   ]
  },
  {
   "cell_type": "markdown",
   "metadata": {},
   "source": [
    "## Question 3\n",
    "\n",
    "Create the log table containing these columns and fill out the table for 1 epoch for the dataset provided in the example below. Write your Python code to generate the output. Next, visualize the loss for epoch 1 using a line chart. For this task, you can use matplotlib library. "
   ]
  },
  {
   "cell_type": "code",
   "execution_count": 34,
   "metadata": {},
   "outputs": [
    {
     "name": "stdout",
     "output_type": "stream",
     "text": [
      "x1 =  4 ,x2 =  1 ,y = 2\n",
      "y_hat = -0.116\n",
      "y-y_hat =  2.116\n",
      "loss= 4.477456\n",
      "new b, w1, and w2 are: -0.2116 -0.8634000000000001 -0.2596\n",
      "x1 =  2 ,x2 =  8 ,y = -14\n",
      "y_hat = -4.0152\n",
      "y-y_hat =  -9.9848\n",
      "loss= 99.69623104\n",
      "new b, w1, and w2 are: 0.78688 1.1335600000000001 7.72824\n",
      "x1 =  1 ,x2 =  0 ,y = 1\n",
      "y_hat = 1.9204400000000001\n",
      "y-y_hat =  -0.9204400000000001\n",
      "loss= 0.8472097936000003\n",
      "new b, w1, and w2 are: 0.878924 1.2256040000000001 7.72824\n",
      "x1 =  3 ,x2 =  2 ,y = -1\n",
      "y_hat = 20.012216000000002\n",
      "y-y_hat =  -21.012216000000002\n",
      "loss= 441.5132212306561\n",
      "new b, w1, and w2 are: 2.9801456 7.5292688000000005 11.9306832\n",
      "x1 =  1 ,x2 =  4 ,y = -7\n",
      "y_hat = 58.2321472\n",
      "y-y_hat =  -65.2321472\n",
      "loss= 4255.233028322468\n",
      "new b, w1, and w2 are: 9.50336032 14.052483520000001 38.02354208\n"
     ]
    }
   ],
   "source": [
    "#Creating the arrays for our dependent and independent variables\n",
    "x1 = np.array([4,2,1,3,1,6])\n",
    "x2 = np.array([1,8,0,2,4,7])\n",
    "y = np.array([2,-14,1,-1,-7])\n",
    "\n",
    "#Creating weights\n",
    "w1 = -0.017\n",
    "w2 = -0.048\n",
    "b = 0\n",
    "\n",
    "#Setting learning rate\n",
    "learn = 0.05\n",
    "\n",
    "#Array of value loss from epoch\n",
    "loss = []\n",
    "for i in range(5):\n",
    "    print(\"x1 = \",x1[i],\",x2 = \",x2[i],\",y =\",y[i])\n",
    "    #Computing y_hat\n",
    "    y_hat = b + w1*(x1[i]) + w2*(x2[i])\n",
    "    print(\"y_hat =\",y_hat)\n",
    "    #Calculating y - y_hat\n",
    "    avgy = y[i] - y_hat\n",
    "    print(\"y-y_hat = \",avgy)\n",
    "    #Calculating loss\n",
    "    big_loss = avgy**2\n",
    "    print(\"loss=\",big_loss)\n",
    "    #Storing loss values as a list\n",
    "    loss.append(big_loss)\n",
    "    #Finding partial derivatives\n",
    "    ddy = 2 * avgy\n",
    "    ddw1 = x1[i]\n",
    "    ddw2 = x2[i]\n",
    "    ddb = 1\n",
    "    #Updating weights\n",
    "    b = b - (learn * ddy * ddb)\n",
    "    w1 = w1 - (learn * ddy * ddw1)\n",
    "    w2 = w2 - (learn * ddy * ddw2)\n",
    "    print(\"new b, w1, and w2 are:\", b, w1, w2)    "
   ]
  },
  {
   "cell_type": "code",
   "execution_count": 35,
   "metadata": {},
   "outputs": [
    {
     "data": {
      "image/png": "[encoded data removed]",
      "text/plain": [
       "<Figure size 432x288 with 1 Axes>"
      ]
     },
     "metadata": {},
     "output_type": "display_data"
    }
   ],
   "source": [
    "#Visualing losses at Epoch 1\n",
    "\n",
    "#Assigning 5 batches for array indexing for the x1 and x2 values (x axis)\n",
    "x_loss = [1,2,3,4,5]\n",
    "#Assiging the array of loss values for the y axis\n",
    "y_loss = loss\n",
    "#Actual plotting\n",
    "plt.plot(x_loss, y_loss)\n",
    "plt.title('Epoch 1')\n",
    "plt.xlabel('Batches')\n",
    "plt.ylabel('Losses')\n",
    "plt.show()"
   ]
  }
 ],
 "metadata": {
  "kernelspec": {
   "display_name": "Python 3",
   "language": "python",
   "name": "python3"
  },
  "language_info": {
   "codemirror_mode": {
    "name": "ipython",
    "version": 3
   },
   "file_extension": ".py",
   "mimetype": "text/x-python",
   "name": "python",
   "nbconvert_exporter": "python",
   "pygments_lexer": "ipython3",
   "version": "3.8.3"
  }
 },
 "nbformat": 4,
 "nbformat_minor": 4
}
